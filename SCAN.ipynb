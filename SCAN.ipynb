{
 "cells": [
  {
   "cell_type": "markdown",
   "metadata": {},
   "source": [
    "# Performance of SCAN density functional method for a set of ionic liquids"
   ]
  },
  {
   "cell_type": "markdown",
   "metadata": {},
   "source": [
    "This notebook allows access to the generated database of binding energies, dipole moments and geometries.\n"
   ]
  },
  {
   "cell_type": "code",
   "execution_count": 1,
   "metadata": {
    "collapsed": false
   },
   "outputs": [
    {
     "name": "stdout",
     "output_type": "stream",
     "text": [
      "Available ionic pairs: BMImBCN4 BMImBF4 BMImBr BMImCCN3 BMImCl BMImFSI BMImI BMImNCN2 BMImPF6 BMImSCN BMImTFMS BMImTFSI BMPyrBCN4 BMPyrBF4 BMPyrBr BMPyrCCN3 BMPyrCl BMPyrFSI BMPyrI BMPyrNCN2 BMPyrPF6 BMPyrSCN BMPyrTFMS BMPyrTFSI BPyBCN4 BPyBF4 BPyBr BPyCCN3 BPyCl BPyFSI BPyI BPyNCN2 BPyPF6 BPySCN BPyTFMS BPyTFSI TEPABCN4 TEPABF4 TEPABr TEPACCN3 TEPACl TEPAFSI TEPAI TEPANCN2 TEPAPF6 TEPASCN TEPATFMS TEPATFSI \n",
      "\n"
     ]
    }
   ],
   "source": [
    "#Loading up the database\n",
    "import json\n",
    "json_data=open(\"database.json\")\n",
    "data=json.load(json_data)\n",
    "\n",
    "#Printing ionic pair names\n",
    "keys=data[0].keys()\n",
    "keys.sort()\n",
    "ionic_pairs='Available ionic pairs: '\n",
    "for key in keys:\n",
    "    ionic_pairs+=key+\" \"\n",
    "print(ionic_pairs+'\\n')"
   ]
  },
  {
   "cell_type": "markdown",
   "metadata": {},
   "source": [
    "Available functionals: REF SCAN0 PBE B2PLYP SCAN M06-L \n",
    "\n",
    "Available methods: REF SCAN0 PBE PBE+D3 PBE+CP PBE+D3+CP B2PLYP B2PLYP+D3 B2PLYP+CP B2PLYP+D3+CP SCAN SCAN+D3 SCAN+D3\\* SCAN+CP SCAN+D3+CP SCAN+D3\\*+CP M06-L M06-L+D3 M06-L+CP M06-L+D3+CP \n",
    "\n",
    "NB! SCAN0 is available only for halide-anion containing ionic pairs.\n"
   ]
  },
  {
   "cell_type": "code",
   "execution_count": 2,
   "metadata": {
    "collapsed": false
   },
   "outputs": [
    {
     "name": "stdout",
     "output_type": "stream",
     "text": [
      "Select an ionic pair: BMImI\n",
      "Select a method: REF\n",
      "E = -374.361179639 kJ/mol (interaction energy of BMImI calculated with REF)\n"
     ]
    }
   ],
   "source": [
    "#Displaying interaction energies\n",
    "ionic_pair=raw_input(\"Select an ionic pair: \")\n",
    "method=raw_input(\"Select a method: \")\n",
    "print(\"E = \"+str(data[0][ionic_pair][\"E_bind(\"+method+\")\"])+\" kJ/mol (interaction energy of \"+ionic_pair+\" calculated with \"+method+\")\")"
   ]
  },
  {
   "cell_type": "code",
   "execution_count": 3,
   "metadata": {
    "collapsed": false
   },
   "outputs": [
    {
     "name": "stdout",
     "output_type": "stream",
     "text": [
      "Select an ionic pair: BMImI\n",
      "Select a functional: REF\n",
      "μ = 3.93913 Debye (dipole moment of BMImI calculated with REF)\n"
     ]
    }
   ],
   "source": [
    "#Displaying dipoles\n",
    "ionic_pair=raw_input(\"Select an ionic pair: \")\n",
    "functional=raw_input(\"Select a functional: \")\n",
    "print(u\"\\u03BC = \"+str(data[0][ionic_pair][\"dipole(\"+functional+\")\"])+\" Debye (dipole moment of \"+ionic_pair+\" calculated with \"+functional+\")\")"
   ]
  },
  {
   "cell_type": "code",
   "execution_count": 4,
   "metadata": {
    "collapsed": false
   },
   "outputs": [
    {
     "name": "stdout",
     "output_type": "stream",
     "text": [
      "Select an ionic pair: BMImI\n"
     ]
    }
   ],
   "source": [
    "#Displaying geometries\n",
    "from ase import Atoms\n",
    "from ase.visualize import view\n",
    "ionic_pair=raw_input(\"Select an ionic pair: \")\n",
    "xyz=[]\n",
    "atoms=''\n",
    "for i in data[0][ionic_pair][\"geometry(B2PLYP)\"]:\n",
    "    xyz.append((float(i.split()[1]),float(i.split()[2]),float(i.split()[3])))\n",
    "    atoms+=i.split()[0]\n",
    "this=Atoms(atoms,xyz)\n",
    "view(this)"
   ]
  },
  {
   "cell_type": "code",
   "execution_count": null,
   "metadata": {
    "collapsed": true
   },
   "outputs": [],
   "source": []
  },
  {
   "cell_type": "code",
   "execution_count": null,
   "metadata": {
    "collapsed": true
   },
   "outputs": [],
   "source": []
  }
 ],
 "metadata": {
  "anaconda-cloud": {},
  "kernelspec": {
   "display_name": "Python [default]",
   "language": "python",
   "name": "python2"
  },
  "language_info": {
   "codemirror_mode": {
    "name": "ipython",
    "version": 2
   },
   "file_extension": ".py",
   "mimetype": "text/x-python",
   "name": "python",
   "nbconvert_exporter": "python",
   "pygments_lexer": "ipython2",
   "version": "2.7.12"
  }
 },
 "nbformat": 4,
 "nbformat_minor": 1
}
